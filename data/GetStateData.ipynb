{
 "cells": [
  {
   "cell_type": "markdown",
   "metadata": {},
   "source": [
    "## Code to read in state data\n",
    "\n",
    "The data is from [COVID Tracking Project](https://covidtracking.com/).\n",
    "\n",
    "This code is modified from [Jessica Nadalin](https://github.com/jessicanada/covid_analysis/blob/master/StateByStateAnalysis.ipynb)."
   ]
  },
  {
   "cell_type": "code",
   "execution_count": null,
   "metadata": {},
   "outputs": [],
   "source": [
    "import pandas as pd\n",
    "import matplotlib.pyplot as plt\n",
    "import numpy as np\n",
    "import scipy.io as sio"
   ]
  },
  {
   "cell_type": "markdown",
   "metadata": {},
   "source": [
    "## Get daily data from covidtracking.com"
   ]
  },
  {
   "cell_type": "code",
   "execution_count": null,
   "metadata": {},
   "outputs": [],
   "source": [
    "! rm states.csv\n",
    "! wget https://covidtracking.com/api/states.csv --no-check-certificate"
   ]
  },
  {
   "cell_type": "code",
   "execution_count": null,
   "metadata": {},
   "outputs": [],
   "source": [
    "! rm daily.csv\n",
    "! wget http://covidtracking.com/api/states/daily.csv --no-check-certificate"
   ]
  },
  {
   "cell_type": "code",
   "execution_count": null,
   "metadata": {},
   "outputs": [],
   "source": [
    "states = pd.read_csv('states.csv')\n",
    "daily = pd.read_csv('daily.csv')\n",
    "daily['date']= pd.to_datetime(daily['date'],format='%Y%m%d')\n",
    "daily['frac'] = daily['positive']/daily['total']\n",
    "daily = daily[daily['state']!='AS']\n",
    "# remove territories\n",
    "states = states[states['state']!='AS']\n",
    "states = states[states['state']!='MP']\n",
    "states = states[states['state']!='GU']\n",
    "states = states[states['state']!='PR']\n",
    "states = states[states['state']!='VI']"
   ]
  },
  {
   "cell_type": "markdown",
   "metadata": {},
   "source": [
    "## Save data for MATLAB"
   ]
  },
  {
   "cell_type": "code",
   "execution_count": null,
   "metadata": {},
   "outputs": [],
   "source": [
    "state = 'MA'        # State to load and save.\n",
    "S = daily.copy()\n",
    "S =S[S['state'] == state].sort_values('date')\n",
    "S['cumpos'] = S['positive'].cumsum()\n",
    "S = S[S['cumpos']>0].reset_index(drop=True)\n",
    "I = S['positive']\n",
    "date = S['date']\n",
    "I0 = np.zeros(I.size)\n",
    "d0 = np.zeros([I.size,3])\n",
    "for k in np.arange(I.size):\n",
    "    I0[k] = I[k]\n",
    "    d0[k,:] = [date[k].month, date[k].day, date[k].year]\n",
    "    \n",
    "sio.savemat(state+'.mat', {'I':I0, 'd':d0})"
   ]
  },
  {
   "cell_type": "code",
   "execution_count": null,
   "metadata": {},
   "outputs": [],
   "source": []
  }
 ],
 "metadata": {
  "kernelspec": {
   "display_name": "Python 3",
   "language": "python",
   "name": "python3"
  },
  "language_info": {
   "codemirror_mode": {
    "name": "ipython",
    "version": 3
   },
   "file_extension": ".py",
   "mimetype": "text/x-python",
   "name": "python",
   "nbconvert_exporter": "python",
   "pygments_lexer": "ipython3",
   "version": "3.6.6"
  }
 },
 "nbformat": 4,
 "nbformat_minor": 2
}
